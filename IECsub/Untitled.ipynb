{
 "cells": [
  {
   "cell_type": "code",
   "execution_count": 3,
   "metadata": {
    "collapsed": true
   },
   "outputs": [],
   "source": [
    "import h5py\n",
    "import numpy"
   ]
  },
  {
   "cell_type": "code",
   "execution_count": 16,
   "metadata": {},
   "outputs": [
    {
     "name": "stdout",
     "output_type": "stream",
     "text": [
      "[u'Dmax', u'I0', u'I0_Stdev', u'Qr', u'Qr_Stdev', u'Rg', u'Rg_Stdev', u'Vc', u'Vc_Stdev', u'buffer_I', u'buffer_Stdev', u'buffer_frames', u'gnom', u'mass', u'mass_Stdev', u'merge_I', u'merge_Stdev', u'merge_frames', u'q', u'quality', u'scattering_I', u'scattering_Stdev', u'subtracted_I', u'subtracted_Stdev', u'sum_I', u'time', u'total', u'volume']\n"
     ]
    }
   ],
   "source": [
    "h5file = \"BSA_010.h5\"\n",
    "with h5py.File(h5file, \"r\") as data:\n",
    "    print(data.keys())\n",
    "    sum_I = numpy.asarray(data[\"sum_I\"])\n",
    "    scatt = numpy.asarray(data[\"scattering_I\"])"
   ]
  },
  {
   "cell_type": "code",
   "execution_count": 15,
   "metadata": {},
   "outputs": [
    {
     "name": "stdout",
     "output_type": "stream",
     "text": [
      "(array([   0, 3001, 3002, 3003, 3004, 3005, 3006, 3007, 3008, 3009, 3010,\n",
      "       3011, 3012, 3013, 3014, 3015, 3016, 3017, 3018, 3019, 3020, 3021,\n",
      "       3022, 3023, 3024, 3025, 3026, 3027, 3028, 3029, 3030, 3031, 3032,\n",
      "       3033, 3034, 3035, 3036, 3037, 3038, 3039, 3040, 3041, 3042, 3043,\n",
      "       3044, 3045, 3046, 3047, 3048, 3049, 3050, 3051, 3052, 3053, 3054,\n",
      "       3055, 3056, 3057, 3058, 3059, 3060, 3061, 3062, 3063, 3064, 3065,\n",
      "       3066, 3067, 3068, 3069, 3070, 3071, 3072, 3073, 3074, 3075, 3076,\n",
      "       3077, 3078, 3079, 3080, 3081, 3082, 3083, 3084, 3085, 3086, 3087,\n",
      "       3088, 3089, 3090, 3091, 3092, 3093, 3094, 3095, 3096, 3097, 3098,\n",
      "       3099, 3100, 3101, 3102, 3103, 3104, 3105, 3106, 3107, 3108, 3109,\n",
      "       3110, 3111, 3112, 3113, 3114, 3115, 3116, 3117, 3118, 3119, 3120,\n",
      "       3121, 3122, 3123, 3124, 3125, 3126, 3127, 3128, 3129, 3130, 3131,\n",
      "       3132, 3133, 3134, 3135, 3136, 3137, 3138, 3139, 3140, 3141, 3142,\n",
      "       3143, 3144, 3145, 3146, 3147, 3148, 3149, 3150, 3151, 3152, 3153,\n",
      "       3154, 3155, 3156, 3157, 3158, 3159, 3160, 3161, 3162, 3163, 3164,\n",
      "       3165, 3166, 3167, 3168, 3169, 3170, 3171, 3172, 3173, 3174, 3175,\n",
      "       3176, 3177, 3178, 3179, 3180, 3181, 3182, 3183, 3184, 3185, 3186,\n",
      "       3187, 3188, 3189, 3190, 3191, 3192, 3193, 3194, 3195, 3196, 3197,\n",
      "       3198, 3199, 3200, 3201, 3202, 3203, 3204, 3205, 3206, 3207, 3208,\n",
      "       3209, 3210, 3211, 3212, 3213, 3214, 3215, 3216, 3217, 3218, 3219,\n",
      "       3220, 3221, 3222, 3223, 3224, 3225, 3226, 3227, 3228, 3229, 3230,\n",
      "       3231, 3232, 3233, 3234, 3235, 3236, 3237, 3238, 3239, 3240, 3241,\n",
      "       3242, 3243, 3244, 3245, 3246, 3247, 3248, 3249]),)\n",
      "[            nan  31785.54492188  31758.96289062 ...,             nan\n",
      "             nan             nan]\n"
     ]
    }
   ],
   "source": [
    "print(numpy.where(sum_I == 0))\n",
    "sum_I[numpy.where(sum_I == 0)] = numpy.nan\n",
    "print sum_I"
   ]
  },
  {
   "cell_type": "code",
   "execution_count": 11,
   "metadata": {},
   "outputs": [
    {
     "data": {
      "text/plain": [
       "(array([], dtype=int64),)"
      ]
     },
     "execution_count": 11,
     "metadata": {},
     "output_type": "execute_result"
    }
   ],
   "source": [
    "numpy.where(sum_I == numpy.nan)"
   ]
  },
  {
   "cell_type": "code",
   "execution_count": 17,
   "metadata": {},
   "outputs": [
    {
     "data": {
      "text/plain": [
       "(3250, 1043)"
      ]
     },
     "execution_count": 17,
     "metadata": {},
     "output_type": "execute_result"
    }
   ],
   "source": [
    "scatt.shape"
   ]
  },
  {
   "cell_type": "code",
   "execution_count": null,
   "metadata": {
    "collapsed": true
   },
   "outputs": [],
   "source": []
  }
 ],
 "metadata": {
  "kernelspec": {
   "display_name": "Python 2",
   "language": "python",
   "name": "python2"
  },
  "language_info": {
   "codemirror_mode": {
    "name": "ipython",
    "version": 2
   },
   "file_extension": ".py",
   "mimetype": "text/x-python",
   "name": "python",
   "nbconvert_exporter": "python",
   "pygments_lexer": "ipython2",
   "version": "2.7.9"
  }
 },
 "nbformat": 4,
 "nbformat_minor": 2
}
